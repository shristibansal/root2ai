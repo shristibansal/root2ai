{
  "nbformat": 4,
  "nbformat_minor": 0,
  "metadata": {
    "colab": {
      "name": "root2ai.ipynb",
      "provenance": [],
      "collapsed_sections": []
    },
    "kernelspec": {
      "name": "python3",
      "display_name": "Python 3"
    },
    "language_info": {
      "name": "python"
    }
  },
  "cells": [
    {
      "cell_type": "code",
      "metadata": {
        "id": "QfT0GKnxFGga",
        "colab": {
          "base_uri": "https://localhost:8080/",
          "height": 198
        },
        "outputId": "f2774d4e-d073-4cde-88da-5494e8b1fec2"
      },
      "source": [
        "# importing dataset\n",
        "import pandas as pd\n",
        "df = pd.read_csv(\"/content/sample_data/root2ai - Data.csv\")\n",
        "df.head(5)\n",
        "\n",
        "\n"
      ],
      "execution_count": 3,
      "outputs": [
        {
          "output_type": "execute_result",
          "data": {
            "text/html": [
              "<div>\n",
              "<style scoped>\n",
              "    .dataframe tbody tr th:only-of-type {\n",
              "        vertical-align: middle;\n",
              "    }\n",
              "\n",
              "    .dataframe tbody tr th {\n",
              "        vertical-align: top;\n",
              "    }\n",
              "\n",
              "    .dataframe thead th {\n",
              "        text-align: right;\n",
              "    }\n",
              "</style>\n",
              "<table border=\"1\" class=\"dataframe\">\n",
              "  <thead>\n",
              "    <tr style=\"text-align: right;\">\n",
              "      <th></th>\n",
              "      <th>Text</th>\n",
              "      <th>Target</th>\n",
              "    </tr>\n",
              "  </thead>\n",
              "  <tbody>\n",
              "    <tr>\n",
              "      <th>0</th>\n",
              "      <td>reserve bank forming expert committee based in...</td>\n",
              "      <td>Blockchain</td>\n",
              "    </tr>\n",
              "    <tr>\n",
              "      <th>1</th>\n",
              "      <td>director could play role financial system</td>\n",
              "      <td>Blockchain</td>\n",
              "    </tr>\n",
              "    <tr>\n",
              "      <th>2</th>\n",
              "      <td>preliminary discuss secure transaction study r...</td>\n",
              "      <td>Blockchain</td>\n",
              "    </tr>\n",
              "    <tr>\n",
              "      <th>3</th>\n",
              "      <td>security indeed prove essential transforming f...</td>\n",
              "      <td>Blockchain</td>\n",
              "    </tr>\n",
              "    <tr>\n",
              "      <th>4</th>\n",
              "      <td>bank settlement normally take three days based...</td>\n",
              "      <td>Blockchain</td>\n",
              "    </tr>\n",
              "  </tbody>\n",
              "</table>\n",
              "</div>"
            ],
            "text/plain": [
              "                                                Text      Target\n",
              "0  reserve bank forming expert committee based in...  Blockchain\n",
              "1          director could play role financial system  Blockchain\n",
              "2  preliminary discuss secure transaction study r...  Blockchain\n",
              "3  security indeed prove essential transforming f...  Blockchain\n",
              "4  bank settlement normally take three days based...  Blockchain"
            ]
          },
          "metadata": {
            "tags": []
          },
          "execution_count": 3
        }
      ]
    },
    {
      "cell_type": "code",
      "metadata": {
        "id": "TnBC-ww01ujh"
      },
      "source": [
        "import re\n",
        "from nltk.corpus import stopwords\n",
        "\n",
        "df['Text'] = df['Text'].apply(str)"
      ],
      "execution_count": 4,
      "outputs": []
    },
    {
      "cell_type": "code",
      "metadata": {
        "id": "ba9g0DFvFWpQ"
      },
      "source": [
        "# cleaning data\n",
        "corpus = []\n",
        "for i in range(len(df)):\n",
        "    msg = re.sub('[^a-zA-Z]',' ',df['Text'][i])\n",
        "    msg = msg.lower()\n",
        "    msg = msg.split()\n",
        "    msg = ' '.join(msg)\n",
        "    corpus.append(msg)"
      ],
      "execution_count": 5,
      "outputs": []
    },
    {
      "cell_type": "code",
      "metadata": {
        "id": "E6BCLWp9FX5G"
      },
      "source": [
        "# tfidf with stopwords\n",
        "import numpy as np\n",
        "from sklearn.feature_extraction.text import TfidfVectorizer\n",
        "cv = TfidfVectorizer(max_features = 6000,min_df=5,max_df=0.95,stop_words='english')\n",
        "X = cv.fit_transform(corpus).toarray()\n",
        "\n",
        "y = df.Target"
      ],
      "execution_count": 6,
      "outputs": []
    },
    {
      "cell_type": "code",
      "metadata": {
        "id": "g6T1oWmMFX7-"
      },
      "source": [
        "# test train split\n",
        "from sklearn.model_selection import train_test_split\n",
        "X_train, X_test, y_train, y_test = train_test_split(X, y, test_size=0.2, random_state = 0)"
      ],
      "execution_count": 7,
      "outputs": []
    },
    {
      "cell_type": "code",
      "metadata": {
        "id": "JeNUPSa0FX_N",
        "colab": {
          "base_uri": "https://localhost:8080/"
        },
        "outputId": "c545cb00-cd36-4b20-8de3-e33e0efdbbf1"
      },
      "source": [
        "# random forest classifier\n",
        "from sklearn.ensemble import RandomForestClassifier\n",
        "classifier = RandomForestClassifier(n_estimators=100, random_state=2,verbose=2)\n",
        "classifier.fit(X_train,y_train)"
      ],
      "execution_count": 13,
      "outputs": [
        {
          "output_type": "stream",
          "text": [
            "[Parallel(n_jobs=1)]: Using backend SequentialBackend with 1 concurrent workers.\n"
          ],
          "name": "stderr"
        },
        {
          "output_type": "stream",
          "text": [
            "building tree 1 of 100\n"
          ],
          "name": "stdout"
        },
        {
          "output_type": "stream",
          "text": [
            "[Parallel(n_jobs=1)]: Done   1 out of   1 | elapsed:    1.5s remaining:    0.0s\n"
          ],
          "name": "stderr"
        },
        {
          "output_type": "stream",
          "text": [
            "building tree 2 of 100\n",
            "building tree 3 of 100\n",
            "building tree 4 of 100\n",
            "building tree 5 of 100\n",
            "building tree 6 of 100\n",
            "building tree 7 of 100\n",
            "building tree 8 of 100\n",
            "building tree 9 of 100\n",
            "building tree 10 of 100\n",
            "building tree 11 of 100\n",
            "building tree 12 of 100\n",
            "building tree 13 of 100\n",
            "building tree 14 of 100\n",
            "building tree 15 of 100\n",
            "building tree 16 of 100\n",
            "building tree 17 of 100\n",
            "building tree 18 of 100\n",
            "building tree 19 of 100\n",
            "building tree 20 of 100\n",
            "building tree 21 of 100\n",
            "building tree 22 of 100\n",
            "building tree 23 of 100\n",
            "building tree 24 of 100\n",
            "building tree 25 of 100\n",
            "building tree 26 of 100\n",
            "building tree 27 of 100\n",
            "building tree 28 of 100\n",
            "building tree 29 of 100\n",
            "building tree 30 of 100\n",
            "building tree 31 of 100\n",
            "building tree 32 of 100\n",
            "building tree 33 of 100\n",
            "building tree 34 of 100\n",
            "building tree 35 of 100\n",
            "building tree 36 of 100\n",
            "building tree 37 of 100\n",
            "building tree 38 of 100\n",
            "building tree 39 of 100\n",
            "building tree 40 of 100\n",
            "building tree 41 of 100\n",
            "building tree 42 of 100\n",
            "building tree 43 of 100\n",
            "building tree 44 of 100\n",
            "building tree 45 of 100\n",
            "building tree 46 of 100\n",
            "building tree 47 of 100\n",
            "building tree 48 of 100\n",
            "building tree 49 of 100\n",
            "building tree 50 of 100\n",
            "building tree 51 of 100\n",
            "building tree 52 of 100\n",
            "building tree 53 of 100\n",
            "building tree 54 of 100\n",
            "building tree 55 of 100\n",
            "building tree 56 of 100\n",
            "building tree 57 of 100\n",
            "building tree 58 of 100\n",
            "building tree 59 of 100\n",
            "building tree 60 of 100\n",
            "building tree 61 of 100\n",
            "building tree 62 of 100\n",
            "building tree 63 of 100\n",
            "building tree 64 of 100\n",
            "building tree 65 of 100\n",
            "building tree 66 of 100\n",
            "building tree 67 of 100\n",
            "building tree 68 of 100\n",
            "building tree 69 of 100\n",
            "building tree 70 of 100\n",
            "building tree 71 of 100\n",
            "building tree 72 of 100\n",
            "building tree 73 of 100\n",
            "building tree 74 of 100\n",
            "building tree 75 of 100\n",
            "building tree 76 of 100\n",
            "building tree 77 of 100\n",
            "building tree 78 of 100\n",
            "building tree 79 of 100\n",
            "building tree 80 of 100\n",
            "building tree 81 of 100\n",
            "building tree 82 of 100\n",
            "building tree 83 of 100\n",
            "building tree 84 of 100\n",
            "building tree 85 of 100\n",
            "building tree 86 of 100\n",
            "building tree 87 of 100\n",
            "building tree 88 of 100\n",
            "building tree 89 of 100\n",
            "building tree 90 of 100\n",
            "building tree 91 of 100\n",
            "building tree 92 of 100\n",
            "building tree 93 of 100\n",
            "building tree 94 of 100\n",
            "building tree 95 of 100\n",
            "building tree 96 of 100\n",
            "building tree 97 of 100\n",
            "building tree 98 of 100\n",
            "building tree 99 of 100\n",
            "building tree 100 of 100\n"
          ],
          "name": "stdout"
        },
        {
          "output_type": "stream",
          "text": [
            "[Parallel(n_jobs=1)]: Done 100 out of 100 | elapsed:  2.5min finished\n"
          ],
          "name": "stderr"
        },
        {
          "output_type": "execute_result",
          "data": {
            "text/plain": [
              "RandomForestClassifier(bootstrap=True, ccp_alpha=0.0, class_weight=None,\n",
              "                       criterion='gini', max_depth=None, max_features='auto',\n",
              "                       max_leaf_nodes=None, max_samples=None,\n",
              "                       min_impurity_decrease=0.0, min_impurity_split=None,\n",
              "                       min_samples_leaf=1, min_samples_split=2,\n",
              "                       min_weight_fraction_leaf=0.0, n_estimators=100,\n",
              "                       n_jobs=None, oob_score=False, random_state=2, verbose=2,\n",
              "                       warm_start=False)"
            ]
          },
          "metadata": {
            "tags": []
          },
          "execution_count": 13
        }
      ]
    },
    {
      "cell_type": "code",
      "metadata": {
        "id": "Tz1OtXFuFYER",
        "colab": {
          "base_uri": "https://localhost:8080/"
        },
        "outputId": "efac3c15-493e-4ae5-c3fd-e48d49303717"
      },
      "source": [
        "# predicting on test dataset\n",
        "y_pred = classifier.predict(X_train)\n"
      ],
      "execution_count": 18,
      "outputs": [
        {
          "output_type": "stream",
          "text": [
            "[Parallel(n_jobs=1)]: Using backend SequentialBackend with 1 concurrent workers.\n",
            "[Parallel(n_jobs=1)]: Done   1 out of   1 | elapsed:    0.0s remaining:    0.0s\n",
            "[Parallel(n_jobs=1)]: Done 100 out of 100 | elapsed:    3.9s finished\n"
          ],
          "name": "stderr"
        }
      ]
    },
    {
      "cell_type": "code",
      "metadata": {
        "colab": {
          "base_uri": "https://localhost:8080/"
        },
        "id": "P6b27DUT6JCz",
        "outputId": "1504e70e-8451-43b9-f8a0-fed9c2658976"
      },
      "source": [
        "# confusion metrix for train data\n",
        "from sklearn.metrics import confusion_matrix\n",
        "cm = confusion_matrix(y_train, y_pred)\n",
        "cm"
      ],
      "execution_count": 19,
      "outputs": [
        {
          "output_type": "execute_result",
          "data": {
            "text/plain": [
              "array([[1795,    0,    1,    0,    6,    0,    2,    9,    0,    0,    3],\n",
              "       [   6, 1074,    0,    0,    5,    0,    3,    0,    1,    0,    0],\n",
              "       [  24,    1, 2036,    1,   22,    0,    7,    3,    0,    0,    5],\n",
              "       [   0,    0,    4,  284,    1,    0,    0,    0,    0,    0,    0],\n",
              "       [  69,    3,    8,    0, 6728,    3,   15,    3,    5,    0,    6],\n",
              "       [   1,    0,    0,    0,    9,  768,    2,    1,    0,    0,    0],\n",
              "       [  10,    0,    0,    0,    9,    0,  835,    0,    0,    0,    4],\n",
              "       [  98,    0,    1,    0,    8,    0,    1, 1655,    0,    0,    1],\n",
              "       [   6,    0,    0,    0,    6,    0,    4,    0,  581,    0,    2],\n",
              "       [  12,    0,    0,    0,    1,    0,    1,    1,    0,  597,    0],\n",
              "       [  14,    0,    1,    0,    9,    0,    8,    0,    0,    0, 1384]])"
            ]
          },
          "metadata": {
            "tags": []
          },
          "execution_count": 19
        }
      ]
    },
    {
      "cell_type": "code",
      "metadata": {
        "colab": {
          "base_uri": "https://localhost:8080/"
        },
        "id": "uNVKoWXG6VQ-",
        "outputId": "34fcde26-b282-4545-f7a1-8f67d40610ca"
      },
      "source": [
        "# accuracy for train data\n",
        "from sklearn.metrics import accuracy_score\n",
        "accuracy = accuracy_score(y_train, y_pred)\n",
        "accuracy"
      ],
      "execution_count": 20,
      "outputs": [
        {
          "output_type": "execute_result",
          "data": {
            "text/plain": [
              "0.9765457248251941"
            ]
          },
          "metadata": {
            "tags": []
          },
          "execution_count": 20
        }
      ]
    },
    {
      "cell_type": "code",
      "metadata": {
        "colab": {
          "base_uri": "https://localhost:8080/"
        },
        "id": "KiD0lYFK6EA2",
        "outputId": "0e4b4a7a-d33f-4953-94e2-4931dc896e5c"
      },
      "source": [
        "# predicting on test data\n",
        "y_pred = classifier.predict(X_test)"
      ],
      "execution_count": 21,
      "outputs": [
        {
          "output_type": "stream",
          "text": [
            "[Parallel(n_jobs=1)]: Using backend SequentialBackend with 1 concurrent workers.\n",
            "[Parallel(n_jobs=1)]: Done   1 out of   1 | elapsed:    0.0s remaining:    0.0s\n",
            "[Parallel(n_jobs=1)]: Done 100 out of 100 | elapsed:    1.1s finished\n"
          ],
          "name": "stderr"
        }
      ]
    },
    {
      "cell_type": "code",
      "metadata": {
        "id": "U7YOi-JRFYHd",
        "colab": {
          "base_uri": "https://localhost:8080/"
        },
        "outputId": "601a1eb8-392c-4b76-e4d8-7c18dabaf517"
      },
      "source": [
        "# confusion metrix for test data\n",
        "from sklearn.metrics import confusion_matrix\n",
        "cm = confusion_matrix(y_test, y_pred)\n",
        "cm\n"
      ],
      "execution_count": 22,
      "outputs": [
        {
          "output_type": "execute_result",
          "data": {
            "text/plain": [
              "array([[ 350,    2,   10,    2,   54,    1,    0,   20,    1,    2,    9],\n",
              "       [  14,   90,   14,    1,  145,    7,    4,    5,    0,    1,    5],\n",
              "       [  27,   10,  228,    4,  233,    6,    4,    7,    2,    4,   16],\n",
              "       [  10,    0,   19,    5,   19,    0,    1,    1,    0,    0,    3],\n",
              "       [  98,   20,   37,    0, 1454,   13,   15,   10,   12,   16,   36],\n",
              "       [  20,    2,    5,    0,   96,   72,    0,    0,    1,    0,    0],\n",
              "       [  10,    3,    7,    0,  125,    3,   58,    2,    0,    0,    3],\n",
              "       [  57,    2,    7,    0,   51,    0,    4,  319,    1,    1,    0],\n",
              "       [   4,    1,    5,    0,   76,    0,    3,    0,   48,    0,    1],\n",
              "       [   8,    0,    3,    0,   81,    2,    0,    1,    0,   80,    0],\n",
              "       [  22,    0,    8,    2,   99,    1,    3,    0,    3,    0,  194]])"
            ]
          },
          "metadata": {
            "tags": []
          },
          "execution_count": 22
        }
      ]
    },
    {
      "cell_type": "code",
      "metadata": {
        "id": "_DYS0KnhFYLF",
        "colab": {
          "base_uri": "https://localhost:8080/"
        },
        "outputId": "1b5061cf-8824-433f-f9ed-a96ddaee17a0"
      },
      "source": [
        "# accuracy for test data\n",
        "from sklearn.metrics import accuracy_score\n",
        "accuracy = accuracy_score(y_test, y_pred)\n",
        "accuracy"
      ],
      "execution_count": 23,
      "outputs": [
        {
          "output_type": "execute_result",
          "data": {
            "text/plain": [
              "0.638185421713279"
            ]
          },
          "metadata": {
            "tags": []
          },
          "execution_count": 23
        }
      ]
    },
    {
      "cell_type": "code",
      "metadata": {
        "id": "JEIf3IlX4KKI",
        "colab": {
          "base_uri": "https://localhost:8080/",
          "height": 173
        },
        "outputId": "c0b6083c-4514-4717-9b95-96f61285e682"
      },
      "source": [
        "# classification_report for test data\n",
        "from sklearn.metrics import classification_report\n",
        "report = classification_report(y_test, y_pred)\n",
        "report"
      ],
      "execution_count": 24,
      "outputs": [
        {
          "output_type": "execute_result",
          "data": {
            "application/vnd.google.colaboratory.intrinsic+json": {
              "type": "string"
            },
            "text/plain": [
              "'                  precision    recall  f1-score   support\\n\\n         Bigdata       0.56      0.78      0.65       451\\n      Blockchain       0.69      0.31      0.43       286\\n  Cyber Security       0.66      0.42      0.52       541\\n   Data Security       0.36      0.09      0.14        58\\n         FinTech       0.60      0.85      0.70      1711\\n   Microservices       0.69      0.37      0.48       196\\n        Neobanks       0.63      0.27      0.38       211\\n        Reg Tech       0.87      0.72      0.79       442\\n   Robo Advising       0.71      0.35      0.47       138\\n   Stock Trading       0.77      0.46      0.57       175\\ncredit reporting       0.73      0.58      0.65       332\\n\\n        accuracy                           0.64      4541\\n       macro avg       0.66      0.47      0.53      4541\\n    weighted avg       0.66      0.64      0.62      4541\\n'"
            ]
          },
          "metadata": {
            "tags": []
          },
          "execution_count": 24
        }
      ]
    },
    {
      "cell_type": "code",
      "metadata": {
        "id": "kUVXJdFSwAj-"
      },
      "source": [
        ""
      ],
      "execution_count": null,
      "outputs": []
    }
  ]
}